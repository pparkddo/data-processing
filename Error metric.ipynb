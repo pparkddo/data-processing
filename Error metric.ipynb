{
 "cells": [
  {
   "cell_type": "markdown",
   "id": "7897bafc-453a-4798-adfa-5a23bc6ec112",
   "metadata": {
    "pycharm": {
     "name": "#%% md\n"
    }
   },
   "source": [
    "- `y_true` : 실제 값\n",
    "- `y_pred` : 예측 값"
   ]
  },
  {
   "cell_type": "code",
   "execution_count": 1,
   "id": "7ad054b5-f2dd-424f-a923-375a0248cf2b",
   "metadata": {
    "pycharm": {
     "name": "#%%\n"
    }
   },
   "outputs": [],
   "source": [
    "y_true = [3, -0.5, 2, 7]\n",
    "y_pred = [2.5, 0.0, 2, 8]"
   ]
  },
  {
   "cell_type": "markdown",
   "id": "84c19049-d3d7-4b06-b9d2-73c83dde7127",
   "metadata": {
    "pycharm": {
     "name": "#%% md\n"
    }
   },
   "source": [
    "# MAE"
   ]
  },
  {
   "cell_type": "code",
   "execution_count": 3,
   "id": "c8f9918f-25b6-40f4-ad30-c14b478b75b4",
   "metadata": {
    "pycharm": {
     "name": "#%%\n"
    }
   },
   "outputs": [
    {
     "data": {
      "text/plain": [
       "0.5"
      ]
     },
     "execution_count": 3,
     "metadata": {},
     "output_type": "execute_result"
    }
   ],
   "source": [
    "from sklearn.metrics import mean_absolute_error\n",
    "\n",
    "mean_absolute_error(y_true, y_pred)"
   ]
  },
  {
   "cell_type": "markdown",
   "id": "999eaf7a-0272-4424-80c5-c46ba9ba82bc",
   "metadata": {
    "pycharm": {
     "name": "#%% md\n"
    }
   },
   "source": [
    "# `MSE`"
   ]
  },
  {
   "cell_type": "code",
   "execution_count": 4,
   "id": "0dbc9e37-3c3d-42f4-a0e2-2504e306ab35",
   "metadata": {
    "pycharm": {
     "name": "#%%\n"
    }
   },
   "outputs": [
    {
     "data": {
      "text/plain": [
       "0.375"
      ]
     },
     "execution_count": 4,
     "metadata": {},
     "output_type": "execute_result"
    }
   ],
   "source": [
    "from sklearn.metrics import mean_squared_error\n",
    "\n",
    "mean_squared_error(y_true, y_pred)"
   ]
  },
  {
   "cell_type": "markdown",
   "id": "1d6da761-c952-4d78-86a6-e4c3b5045321",
   "metadata": {
    "pycharm": {
     "name": "#%% md\n"
    }
   },
   "source": [
    "# `RMSE`"
   ]
  },
  {
   "cell_type": "code",
   "execution_count": 5,
   "id": "1a76e2b2-ffde-4582-9392-7f59b0901587",
   "metadata": {
    "pycharm": {
     "name": "#%%\n"
    }
   },
   "outputs": [
    {
     "data": {
      "text/plain": [
       "0.6123724356957945"
      ]
     },
     "execution_count": 5,
     "metadata": {},
     "output_type": "execute_result"
    }
   ],
   "source": [
    "from math import sqrt\n",
    "from sklearn.metrics import mean_squared_error\n",
    "\n",
    "sqrt(mean_squared_error(y_true, y_pred))"
   ]
  },
  {
   "cell_type": "markdown",
   "id": "9c4e105a-fd9b-4a62-8e84-707bd5a91537",
   "metadata": {
    "pycharm": {
     "name": "#%% md\n"
    }
   },
   "source": [
    "# 연습문제\n",
    "\n",
    "주어진 `y_true`, `y_pred` 에 대해 MAE, MSE, RMSE 값을 구하세요"
   ]
  },
  {
   "cell_type": "code",
   "execution_count": 6,
   "id": "bb98139f-02de-4fcb-9686-f00ff2c99671",
   "metadata": {
    "pycharm": {
     "name": "#%%\n"
    }
   },
   "outputs": [],
   "source": [
    "y_true = [10, 12, 32, 50000]\n",
    "y_pred = [5, 15, 29, 70000]"
   ]
  },
  {
   "cell_type": "code",
   "execution_count": 20,
   "id": "27f95a63-992c-48b6-bcdf-3818f2394f21",
   "metadata": {
    "pycharm": {
     "name": "#%%\n"
    }
   },
   "outputs": [],
   "source": [
    "# 아래에 MAE 값을 구하세요\n",
    "\n"
   ]
  },
  {
   "cell_type": "code",
   "execution_count": 11,
   "id": "e04b3707-734f-44f1-b14b-4aae452a324f",
   "metadata": {
    "pycharm": {
     "name": "#%%\n"
    }
   },
   "outputs": [],
   "source": [
    "# 아래에 MSE 값을 구하세요\n",
    "\n"
   ]
  },
  {
   "cell_type": "code",
   "execution_count": 12,
   "id": "a61e4e52-886e-4940-b799-06f908f85477",
   "metadata": {
    "pycharm": {
     "name": "#%%\n"
    }
   },
   "outputs": [],
   "source": [
    "# 아래에 RMSE 값을 구하세요\n",
    "\n"
   ]
  }
 ],
 "metadata": {
  "kernelspec": {
   "display_name": "Python 3 (ipykernel)",
   "language": "python",
   "name": "python3"
  },
  "language_info": {
   "codemirror_mode": {
    "name": "ipython",
    "version": 3
   },
   "file_extension": ".py",
   "mimetype": "text/x-python",
   "name": "python",
   "nbconvert_exporter": "python",
   "pygments_lexer": "ipython3",
   "version": "3.10.6"
  }
 },
 "nbformat": 4,
 "nbformat_minor": 5
}