{
 "cells": [
  {
   "cell_type": "markdown",
   "id": "7dc707fe-1f53-4549-be41-0f53623fc5fc",
   "metadata": {},
   "source": [
    "# Path\n",
    "\n",
    "컴퓨터 안의 어떤 자원(폴더, 파일)의 위치를 명시하기 위해서 경로를 사용할 수 있습니다. 경로는 절대경로와 상대경로로 나누어집니다.  \n",
    "절대 경로란 최초의 시작점으로 경유한 경로를 전부 기입하는 방식입니다. 윈도우라면 드라이브명(C:\\ 등) 리눅스계열이라면 루트 디렉터리(\\\\) 부터 모든 경로를 적은 것입니다.  \n",
    "상대 경로란 말 그대로 상대적으로 경로를 나타낸 것이며, 주피터 노트북에서 프로그래밍을 할 때, 기준점은 노트북 파일이 기준이 됩니다. 상대 경로에서 상위 디렉터리를 명시할때는 `..` 을 사용할 수 있습니다."
   ]
  },
  {
   "cell_type": "code",
   "execution_count": 1,
   "id": "830d4b00-5eb3-437d-9d0c-9de6e5853f04",
   "metadata": {},
   "outputs": [
    {
     "data": {
      "text/plain": [
       "'/Users/doyoung/Projects/kepco-class/load-interpolation/problem'"
      ]
     },
     "execution_count": 1,
     "metadata": {},
     "output_type": "execute_result"
    }
   ],
   "source": [
    "# 현재 노트북 파일이 어느 경로에서 실행 중 인지 확인해보겠습니다.\n",
    "%pwd"
   ]
  },
  {
   "cell_type": "markdown",
   "id": "9dcf0f1b-7f83-4289-813e-f16746aee3e9",
   "metadata": {},
   "source": [
    "# Local file"
   ]
  },
  {
   "cell_type": "markdown",
   "id": "9e648243-d9b9-4496-a89d-75b69629824e",
   "metadata": {},
   "source": [
    "colab 환경에서는 샘플로 사용할 수 있는 데이터를 제공합니다. 좌측 폴더 아이콘을 클릭하면 sample_data/ 라는 폴더가 보입니다. 이를 절대경로와 상대경로로 각각 지정해보겠습니다."
   ]
  },
  {
   "cell_type": "markdown",
   "id": "39cd50c8-6177-44e7-92de-520a28c32574",
   "metadata": {},
   "source": [
    "절대경로"
   ]
  },
  {
   "cell_type": "code",
   "execution_count": null,
   "id": "5abab3c3-2040-458b-9ba6-f107c5366416",
   "metadata": {},
   "outputs": [],
   "source": [
    "## 현재 디렉터리\n",
    "current_directory = \"/content\"  \n",
    "## sample_data 디렉터리\n",
    "sample_data_directory = \"/content/sample_data/\"  \n",
    "## sample_data 내의 README.md 파일\n",
    "readme_path = \"/content/sample_data/README.md\"  "
   ]
  },
  {
   "cell_type": "markdown",
   "id": "36073ce4-6215-4834-a515-8a8bc52698e3",
   "metadata": {},
   "source": [
    "상대경로"
   ]
  },
  {
   "cell_type": "code",
   "execution_count": null,
   "id": "abe852b0-c89b-42aa-98e4-5ff6a9e8f0fb",
   "metadata": {},
   "outputs": [],
   "source": [
    "## . 은 현재 디렉토리를 말합니다.\n",
    "current_directory = \".\"  \n",
    "\n",
    "## sample_data 디렉터리\n",
    "sample_data_directory = \"./sample_data\"  \n",
    "sample_data_directory = \"sample_data\"  # 또는 이렇게 표현할 수도 있습니다.\n",
    "sample_data_directory = \"sample_data/\"  # 또는 이렇게 표현할 수도 있습니다.\n",
    "\n",
    "## sample_data 내의 README.md 파일\n",
    "readme_path = \"./sample_data/README.md\""
   ]
  },
  {
   "cell_type": "markdown",
   "id": "0f5d37ec-996d-4d8b-addf-76527ead9f1a",
   "metadata": {},
   "source": [
    "문자열을 합해서 경로를 지정할 수도 있습니다."
   ]
  },
  {
   "cell_type": "code",
   "execution_count": null,
   "id": "ceaf54da-3855-4ecd-bbd4-58099d30a3c4",
   "metadata": {},
   "outputs": [],
   "source": [
    "sample_data_directory = \"sample_data\"\n",
    "readme_filename = \"README.md\"\n",
    "\n",
    "readme_path = sample_data_directory + \"/\" + readme_filename\n",
    "print(readme_path)"
   ]
  },
  {
   "cell_type": "markdown",
   "id": "7097b685-cdeb-406d-a524-5c8898071981",
   "metadata": {},
   "source": [
    "## Join\n",
    "\n",
    "위와 같이 문자열을 더해서 경로를 지정할 때, 가독성이 좋지 않기 때문에 `\\\\` 를 중복해서 쓰거나 누락할 가능성이 있습니다. 이를 편하게 하기 위해 `os.path` 모듈 안에 `join` 이라는 함수가 있습니다."
   ]
  },
  {
   "cell_type": "code",
   "execution_count": null,
   "id": "e90ea741-f1c6-46c0-9cca-822a7c0709b5",
   "metadata": {},
   "outputs": [],
   "source": [
    "from os.path import join\n",
    "\n",
    "readme_path = join(sample_data_directory, readme_filename)\n",
    "print(readme_path)"
   ]
  },
  {
   "cell_type": "markdown",
   "id": "da8c140c-a95f-485b-a1e9-39431084c59c",
   "metadata": {},
   "source": [
    "두 개 이상의 경로도 이어 붙일 수 있습니다."
   ]
  },
  {
   "cell_type": "code",
   "execution_count": null,
   "id": "75fbe8c4-8bce-4507-ae46-1bc796d6b1ef",
   "metadata": {},
   "outputs": [],
   "source": [
    "example_path = join(\"example\", \"very\", \"very\", \"deep\", \"directory\")\n",
    "\n",
    "print(example_path)"
   ]
  },
  {
   "cell_type": "markdown",
   "id": "bd82f776-e087-46ca-9b88-172be402da8f",
   "metadata": {},
   "source": [
    "# Internet file"
   ]
  },
  {
   "cell_type": "markdown",
   "id": "5516060a-5acc-47f7-8e57-addc4ce744cf",
   "metadata": {},
   "source": [
    "## HTTP ?\n",
    "\n",
    "HyperText Transfer Protocol\n",
    "\n",
    "원격에 있는 서버와 통신하기 위한 프로토콜  \n",
    "`client` 가 `요청(request)`하면  \n",
    "`server` 가 `응답(response)`하는 구조를 가진다.  \n",
    "`web` 에서 자료를 가져올 때 `HTTP` 를 사용하여 `client-server`간 통신을 한다.  \n",
    "자료의 주소는 `url` 로 표시되며 `request parameter` 에 요청하고자 하는 정보의 조건을 명시할 수 있다.   \n",
    "\n",
    "- https://ko.wikipedia.org/wiki/HTTP"
   ]
  },
  {
   "cell_type": "markdown",
   "id": "3aa8e3f6-03ee-41a6-9e13-e30f26a0be1d",
   "metadata": {},
   "source": [
    "## REST?\n",
    "\n",
    "Representational state transfer\n",
    "\n",
    "`web(http)` 에서 자료주소를 지정하기 위한 소프트웨어 아키텍쳐의 사실상(de facto) 표준이다.  \n",
    "\n",
    "`HTTP` 에서는 자료의 주소를 지정하기 위해 `url` 을 사용하는데  \n",
    "이 자료의 주소를 명확하고 효과적으로 나타내기 위한 방법론이다.  \n",
    "\n",
    "이러한 주소체계를 따르는 application 을 `RESTful` 하다고 말하기도 한다.\n",
    "\n",
    "- https://ko.wikipedia.org/wiki/REST"
   ]
  },
  {
   "cell_type": "code",
   "execution_count": 12,
   "id": "ad131cc1-93a2-4c83-baa4-aa7ee61d5b1c",
   "metadata": {},
   "outputs": [],
   "source": [
    "import requests"
   ]
  },
  {
   "cell_type": "code",
   "execution_count": 13,
   "id": "0eb21019-4a98-4199-8501-1109bb56933c",
   "metadata": {},
   "outputs": [],
   "source": [
    "url = \"https://gist.githubusercontent.com/pparkddo/6b62c1a6dcf3fa8f70ab6ea81b923a19/raw/74ba6e5b7e478f91becdc622880c33817171562c/sample_data.json\""
   ]
  },
  {
   "cell_type": "code",
   "execution_count": 20,
   "id": "b11eee34-48ce-421c-b8e6-894d440dafa1",
   "metadata": {},
   "outputs": [
    {
     "data": {
      "text/plain": [
       "<Response [200]>"
      ]
     },
     "execution_count": 20,
     "metadata": {},
     "output_type": "execute_result"
    }
   ],
   "source": [
    "response = requests.get(url)\n",
    "\n",
    "response"
   ]
  },
  {
   "cell_type": "code",
   "execution_count": 27,
   "id": "87a2f629-b413-4b50-934c-b87f838fcf1c",
   "metadata": {},
   "outputs": [
    {
     "data": {
      "text/plain": [
       "'[{\"customer_id\":\"1\",\"name\":\"kim\",\"age\":35},{\"customer_id\":\"2\",\"name\":\"lee\",\"age\":41},{\"customer_id\":\"3\",\"name\":\"park\",\"age\":25}]'"
      ]
     },
     "execution_count": 27,
     "metadata": {},
     "output_type": "execute_result"
    }
   ],
   "source": [
    "data = response.text\n",
    "\n",
    "data"
   ]
  },
  {
   "cell_type": "markdown",
   "id": "06be866a-e10d-4107-83d5-3294fa4b0d3c",
   "metadata": {},
   "source": [
    "## JSON ?\n",
    "\n",
    "JavaScript Object Notation\n",
    "\n",
    "`HTTP` 를 사용하여 `web` 에서 자료를 주고 받을 때 그 자료를 표현하는 방법 중 하나이다.  \n",
    "`key-value` 로 이루어져 있으며 `python` 의 `dict`와 매우 유사하다.  \n",
    "`python` 에서는 `json` library 를 활용하여 손쉽게 이용가능하다.  \n",
    "\n",
    "- https://ko.wikipedia.org/wiki/JSON"
   ]
  },
  {
   "cell_type": "markdown",
   "id": "e8e980b9-1a5c-44a0-8ea9-00824b6ea4be",
   "metadata": {},
   "source": [
    "`json` 라이브러리를 이용해서 `json` 문자열을 python `dict` 로 불러오는 예제입니다."
   ]
  },
  {
   "cell_type": "code",
   "execution_count": 4,
   "id": "a829f224-1e02-49df-a01c-dd60d2c4de00",
   "metadata": {},
   "outputs": [],
   "source": [
    "json_data = \"\"\"\n",
    "    [\n",
    "        {\n",
    "            \"customer_id\": \"1\",\n",
    "            \"name\": \"kim\",\n",
    "            \"age\": 35\n",
    "        },\n",
    "        {\n",
    "            \"customer_id\": \"2\",\n",
    "            \"name\": \"lee\",\n",
    "            \"age\": 41\n",
    "        },\n",
    "        {\n",
    "            \"customer_id\": \"3\",\n",
    "            \"name\": \"park\",\n",
    "            \"age\": 25\n",
    "        }\n",
    "    ]\n",
    "\"\"\""
   ]
  },
  {
   "cell_type": "markdown",
   "id": "cbd56b79-4511-4325-b252-2b382bff388d",
   "metadata": {},
   "source": [
    "`json` 라이브러리의 `loads` 함수를 이용해서  \n",
    "문자열로된 `json_data` 를 python `dict` 로 손쉽게 변경할 수 있습니다."
   ]
  },
  {
   "cell_type": "code",
   "execution_count": 5,
   "id": "6f960fbe-101d-4d1e-9f00-82fe397c1cb9",
   "metadata": {},
   "outputs": [],
   "source": [
    "import json\n",
    "\n",
    "d = json.loads(json_data)"
   ]
  },
  {
   "cell_type": "code",
   "execution_count": 6,
   "id": "6fb99d7d-e225-4267-86fc-b6076d0c6604",
   "metadata": {},
   "outputs": [
    {
     "data": {
      "text/plain": [
       "[{'customer_id': '1', 'name': 'kim', 'age': 35},\n",
       " {'customer_id': '2', 'name': 'lee', 'age': 41},\n",
       " {'customer_id': '3', 'name': 'park', 'age': 25}]"
      ]
     },
     "execution_count": 6,
     "metadata": {},
     "output_type": "execute_result"
    }
   ],
   "source": [
    "d"
   ]
  },
  {
   "cell_type": "code",
   "execution_count": 8,
   "id": "20d50122-e78d-4e0d-8823-a63ac258bf27",
   "metadata": {},
   "outputs": [
    {
     "data": {
      "text/plain": [
       "list"
      ]
     },
     "execution_count": 8,
     "metadata": {},
     "output_type": "execute_result"
    }
   ],
   "source": [
    "type(d)"
   ]
  },
  {
   "cell_type": "code",
   "execution_count": 9,
   "id": "47242674-101b-458a-80ed-092621b562f4",
   "metadata": {},
   "outputs": [
    {
     "data": {
      "text/plain": [
       "{'customer_id': '1', 'name': 'kim', 'age': 35}"
      ]
     },
     "execution_count": 9,
     "metadata": {},
     "output_type": "execute_result"
    }
   ],
   "source": [
    "d[0]"
   ]
  },
  {
   "cell_type": "code",
   "execution_count": 10,
   "id": "e9afb193-9ccf-4f2f-94b7-9e1423d7a85d",
   "metadata": {},
   "outputs": [
    {
     "data": {
      "text/plain": [
       "dict"
      ]
     },
     "execution_count": 10,
     "metadata": {},
     "output_type": "execute_result"
    }
   ],
   "source": [
    "type(d[0])"
   ]
  },
  {
   "cell_type": "code",
   "execution_count": 11,
   "id": "8a62cbb8-6d2d-4fcd-9d5c-ea14fc6e3b01",
   "metadata": {},
   "outputs": [
    {
     "data": {
      "text/plain": [
       "'kim'"
      ]
     },
     "execution_count": 11,
     "metadata": {},
     "output_type": "execute_result"
    }
   ],
   "source": [
    "d[0][\"name\"]"
   ]
  },
  {
   "cell_type": "markdown",
   "id": "87dcffd9-ae15-41b8-96c4-301f6ebd0259",
   "metadata": {},
   "source": [
    "`requests` 를 이용하여 인터넷 json 데이터 들고오기"
   ]
  },
  {
   "cell_type": "code",
   "execution_count": 29,
   "id": "7d8c4840-1510-459a-bbed-c9b0262fa6af",
   "metadata": {},
   "outputs": [
    {
     "data": {
      "text/plain": [
       "<Response [200]>"
      ]
     },
     "execution_count": 29,
     "metadata": {},
     "output_type": "execute_result"
    }
   ],
   "source": [
    "url = \"https://gist.githubusercontent.com/pparkddo/6b62c1a6dcf3fa8f70ab6ea81b923a19/raw/74ba6e5b7e478f91becdc622880c33817171562c/sample_data.json\"\n",
    "\n",
    "response = requests.get(url)\n",
    "\n",
    "response"
   ]
  },
  {
   "cell_type": "code",
   "execution_count": 31,
   "id": "73024494-3bfa-483b-89a3-1fbdf0b0d900",
   "metadata": {},
   "outputs": [
    {
     "data": {
      "text/plain": [
       "[{'customer_id': '1', 'name': 'kim', 'age': 35},\n",
       " {'customer_id': '2', 'name': 'lee', 'age': 41},\n",
       " {'customer_id': '3', 'name': 'park', 'age': 25}]"
      ]
     },
     "execution_count": 31,
     "metadata": {},
     "output_type": "execute_result"
    }
   ],
   "source": [
    "data = response.json()\n",
    "\n",
    "data"
   ]
  },
  {
   "cell_type": "code",
   "execution_count": 35,
   "id": "a4e1861d-b768-4ec1-a20d-be7b0ba67654",
   "metadata": {},
   "outputs": [
    {
     "data": {
      "text/html": [
       "<div>\n",
       "<style scoped>\n",
       "    .dataframe tbody tr th:only-of-type {\n",
       "        vertical-align: middle;\n",
       "    }\n",
       "\n",
       "    .dataframe tbody tr th {\n",
       "        vertical-align: top;\n",
       "    }\n",
       "\n",
       "    .dataframe thead th {\n",
       "        text-align: right;\n",
       "    }\n",
       "</style>\n",
       "<table border=\"1\" class=\"dataframe\">\n",
       "  <thead>\n",
       "    <tr style=\"text-align: right;\">\n",
       "      <th></th>\n",
       "      <th>customer_id</th>\n",
       "      <th>name</th>\n",
       "      <th>age</th>\n",
       "    </tr>\n",
       "  </thead>\n",
       "  <tbody>\n",
       "    <tr>\n",
       "      <th>0</th>\n",
       "      <td>1</td>\n",
       "      <td>kim</td>\n",
       "      <td>35</td>\n",
       "    </tr>\n",
       "    <tr>\n",
       "      <th>1</th>\n",
       "      <td>2</td>\n",
       "      <td>lee</td>\n",
       "      <td>41</td>\n",
       "    </tr>\n",
       "    <tr>\n",
       "      <th>2</th>\n",
       "      <td>3</td>\n",
       "      <td>park</td>\n",
       "      <td>25</td>\n",
       "    </tr>\n",
       "  </tbody>\n",
       "</table>\n",
       "</div>"
      ],
      "text/plain": [
       "  customer_id  name  age\n",
       "0           1   kim   35\n",
       "1           2   lee   41\n",
       "2           3  park   25"
      ]
     },
     "execution_count": 35,
     "metadata": {},
     "output_type": "execute_result"
    }
   ],
   "source": [
    "import pandas as pd\n",
    "\n",
    "df = pd.DataFrame(data)\n",
    "\n",
    "df"
   ]
  },
  {
   "cell_type": "markdown",
   "id": "fb36344c-7673-45e4-8c0e-cf80d5a36540",
   "metadata": {},
   "source": [
    "`pd.read_json` 을 이용해보기"
   ]
  },
  {
   "cell_type": "code",
   "execution_count": 38,
   "id": "5c888b83-9e0a-430b-87df-890614af0e32",
   "metadata": {},
   "outputs": [
    {
     "data": {
      "text/html": [
       "<div>\n",
       "<style scoped>\n",
       "    .dataframe tbody tr th:only-of-type {\n",
       "        vertical-align: middle;\n",
       "    }\n",
       "\n",
       "    .dataframe tbody tr th {\n",
       "        vertical-align: top;\n",
       "    }\n",
       "\n",
       "    .dataframe thead th {\n",
       "        text-align: right;\n",
       "    }\n",
       "</style>\n",
       "<table border=\"1\" class=\"dataframe\">\n",
       "  <thead>\n",
       "    <tr style=\"text-align: right;\">\n",
       "      <th></th>\n",
       "      <th>customer_id</th>\n",
       "      <th>name</th>\n",
       "      <th>age</th>\n",
       "    </tr>\n",
       "  </thead>\n",
       "  <tbody>\n",
       "    <tr>\n",
       "      <th>0</th>\n",
       "      <td>1</td>\n",
       "      <td>kim</td>\n",
       "      <td>35</td>\n",
       "    </tr>\n",
       "    <tr>\n",
       "      <th>1</th>\n",
       "      <td>2</td>\n",
       "      <td>lee</td>\n",
       "      <td>41</td>\n",
       "    </tr>\n",
       "    <tr>\n",
       "      <th>2</th>\n",
       "      <td>3</td>\n",
       "      <td>park</td>\n",
       "      <td>25</td>\n",
       "    </tr>\n",
       "  </tbody>\n",
       "</table>\n",
       "</div>"
      ],
      "text/plain": [
       "   customer_id  name  age\n",
       "0            1   kim   35\n",
       "1            2   lee   41\n",
       "2            3  park   25"
      ]
     },
     "execution_count": 38,
     "metadata": {},
     "output_type": "execute_result"
    }
   ],
   "source": [
    "url = \"https://gist.githubusercontent.com/pparkddo/6b62c1a6dcf3fa8f70ab6ea81b923a19/raw/74ba6e5b7e478f91becdc622880c33817171562c/sample_data.json\"\n",
    "\n",
    "df = pd.read_json(url)\n",
    "\n",
    "df"
   ]
  }
 ],
 "metadata": {
  "kernelspec": {
   "display_name": "Python 3 (ipykernel)",
   "language": "python",
   "name": "python3"
  },
  "language_info": {
   "codemirror_mode": {
    "name": "ipython",
    "version": 3
   },
   "file_extension": ".py",
   "mimetype": "text/x-python",
   "name": "python",
   "nbconvert_exporter": "python",
   "pygments_lexer": "ipython3",
   "version": "3.10.6"
  }
 },
 "nbformat": 4,
 "nbformat_minor": 5
}
