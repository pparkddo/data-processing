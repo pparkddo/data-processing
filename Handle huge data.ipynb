{
 "cells": [
  {
   "cell_type": "markdown",
   "id": "457dc485-5d75-40a3-9dc3-e70c7a3cd92c",
   "metadata": {
    "pycharm": {
     "name": "#%% md\n"
    }
   },
   "source": [
    "# 파일형식\n",
    "\n",
    "파일을 나타내는 여러가지 방법이 있습니다. 이에 따라 저장되는 형식, 확장자또한 달라집니다. 대표적인 데이터들에 대해서 알아보겠습니다."
   ]
  },
  {
   "cell_type": "markdown",
   "id": "0cc81eda-fdc9-4667-abac-594c43eaff9d",
   "metadata": {
    "pycharm": {
     "name": "#%% md\n"
    }
   },
   "source": [
    "### csv\n",
    "\n",
    "`comma-separated values` 의 약어로 직역하면 콤마(,)로 불리된 값들입니다. 실제로 파일이 저장될때 각 열의 값들이 콤마로 불리되어 저장됩니다. 예를 들어 이름과 나이를 관리하는 데이터셋일 때 아래와 같습니다.\n",
    "\n",
    "name, age  \n",
    "kim, 12  \n",
    "lee, 15  \n",
    "park, 11  \n",
    "\n",
    "실제 데이터를 확인해보겠습니다."
   ]
  },
  {
   "cell_type": "code",
   "execution_count": null,
   "id": "071fd09f-4c1c-49e2-a833-d3850c7dfada",
   "metadata": {
    "pycharm": {
     "name": "#%%\n"
    }
   },
   "outputs": [],
   "source": [
    "# caution! 아래 코드는 colab 에서만 작동합니다.\n",
    "from os.path import join\n",
    "\n",
    "filename = join(\"sample_data\", \"california_housing_test.csv\")\n",
    "values = open(filename).read()\n",
    "\n",
    "print(values)"
   ]
  },
  {
   "cell_type": "markdown",
   "id": "949f3e73-d7f8-4f19-b1e0-2cce96702ecd",
   "metadata": {
    "pycharm": {
     "name": "#%% md\n"
    }
   },
   "source": [
    "### excel\n",
    "\n",
    "확장자명은 `xlsx` 또는 `xls` 로 저장되며 마이크로소프트 오피스 프로그램 엑셀에서 사용되는 파일 형식입니다. 파일 내용은 엑셀 프로그램을 통해서 여는 것이 아니라면 알아볼 수 없는 문자열들로 이루어져 있습니다. 그 문자열들을 파이썬에서 해석하기 위해서는 `openpyxl` 이나 `pandas` 를 사용해야 합니다."
   ]
  },
  {
   "cell_type": "code",
   "execution_count": 3,
   "id": "c55ee1a5-ee95-489a-b4be-4173cd8e927b",
   "metadata": {
    "pycharm": {
     "name": "#%%\n"
    }
   },
   "outputs": [],
   "source": [
    "# caution! 아래 코드는 colab 에서만 작동합니다.\n",
    "from google.colab import files\n",
    "\n",
    "uploaded = files.upload()\n",
    "\n",
    "for filename in uploaded:\n",
    "    content = uploaded[filename]\n",
    "    print(content)"
   ]
  },
  {
   "cell_type": "markdown",
   "id": "5d0c6c61-0c3e-46a3-9da8-5b23cdd4be4b",
   "metadata": {
    "pycharm": {
     "name": "#%% md\n"
    }
   },
   "source": [
    "# 대용량 데이터에서의 파일형식\n",
    "\n",
    "## 파일형식이 중요한 이유\n",
    "- csv, excel 처럼 익숙한 파일형식을 사용할 수 있지만\n",
    "- 각기 다른 파일형식마다 데이터를 불러오고 저장에 소요되는 시간이 차이납니다\n",
    "- 또 각각 파일형식에 따라 저장공간을 차지하는 것에 차이를 보입니다"
   ]
  },
  {
   "cell_type": "code",
   "execution_count": 4,
   "id": "4a4bd625-10f6-431c-b54a-df685060092c",
   "metadata": {
    "pycharm": {
     "name": "#%%\n"
    }
   },
   "outputs": [],
   "source": [
    "import numpy as np\n",
    "import pandas as pd"
   ]
  },
  {
   "cell_type": "code",
   "execution_count": 5,
   "id": "0d7cb4fd-6f20-40e8-a256-88dc3bb614e3",
   "metadata": {
    "pycharm": {
     "name": "#%%\n"
    }
   },
   "outputs": [],
   "source": [
    "sz = 1_000_000\n",
    "\n",
    "df = pd.DataFrame({\"A\": np.random.randn(sz), \"B\": [1] * sz})"
   ]
  },
  {
   "cell_type": "code",
   "execution_count": 6,
   "id": "035e2ebf-44de-4ada-a1ee-ece49dcf01c4",
   "metadata": {
    "pycharm": {
     "name": "#%%\n"
    }
   },
   "outputs": [
    {
     "data": {
      "text/html": [
       "<div>\n",
       "<style scoped>\n",
       "    .dataframe tbody tr th:only-of-type {\n",
       "        vertical-align: middle;\n",
       "    }\n",
       "\n",
       "    .dataframe tbody tr th {\n",
       "        vertical-align: top;\n",
       "    }\n",
       "\n",
       "    .dataframe thead th {\n",
       "        text-align: right;\n",
       "    }\n",
       "</style>\n",
       "<table border=\"1\" class=\"dataframe\">\n",
       "  <thead>\n",
       "    <tr style=\"text-align: right;\">\n",
       "      <th></th>\n",
       "      <th>A</th>\n",
       "      <th>B</th>\n",
       "    </tr>\n",
       "  </thead>\n",
       "  <tbody>\n",
       "    <tr>\n",
       "      <th>0</th>\n",
       "      <td>-0.065250</td>\n",
       "      <td>1</td>\n",
       "    </tr>\n",
       "    <tr>\n",
       "      <th>1</th>\n",
       "      <td>-1.634458</td>\n",
       "      <td>1</td>\n",
       "    </tr>\n",
       "    <tr>\n",
       "      <th>2</th>\n",
       "      <td>-0.206080</td>\n",
       "      <td>1</td>\n",
       "    </tr>\n",
       "    <tr>\n",
       "      <th>3</th>\n",
       "      <td>0.464214</td>\n",
       "      <td>1</td>\n",
       "    </tr>\n",
       "    <tr>\n",
       "      <th>4</th>\n",
       "      <td>0.463563</td>\n",
       "      <td>1</td>\n",
       "    </tr>\n",
       "    <tr>\n",
       "      <th>...</th>\n",
       "      <td>...</td>\n",
       "      <td>...</td>\n",
       "    </tr>\n",
       "    <tr>\n",
       "      <th>999995</th>\n",
       "      <td>0.896058</td>\n",
       "      <td>1</td>\n",
       "    </tr>\n",
       "    <tr>\n",
       "      <th>999996</th>\n",
       "      <td>-0.561270</td>\n",
       "      <td>1</td>\n",
       "    </tr>\n",
       "    <tr>\n",
       "      <th>999997</th>\n",
       "      <td>-1.955262</td>\n",
       "      <td>1</td>\n",
       "    </tr>\n",
       "    <tr>\n",
       "      <th>999998</th>\n",
       "      <td>-0.611040</td>\n",
       "      <td>1</td>\n",
       "    </tr>\n",
       "    <tr>\n",
       "      <th>999999</th>\n",
       "      <td>0.048974</td>\n",
       "      <td>1</td>\n",
       "    </tr>\n",
       "  </tbody>\n",
       "</table>\n",
       "<p>1000000 rows × 2 columns</p>\n",
       "</div>"
      ],
      "text/plain": [
       "               A  B\n",
       "0      -0.065250  1\n",
       "1      -1.634458  1\n",
       "2      -0.206080  1\n",
       "3       0.464214  1\n",
       "4       0.463563  1\n",
       "...          ... ..\n",
       "999995  0.896058  1\n",
       "999996 -0.561270  1\n",
       "999997 -1.955262  1\n",
       "999998 -0.611040  1\n",
       "999999  0.048974  1\n",
       "\n",
       "[1000000 rows x 2 columns]"
      ]
     },
     "execution_count": 6,
     "metadata": {},
     "output_type": "execute_result"
    }
   ],
   "source": [
    "df"
   ]
  },
  {
   "cell_type": "code",
   "execution_count": 7,
   "id": "894cc4f2-a063-4334-8014-470c63de0d0f",
   "metadata": {
    "pycharm": {
     "name": "#%%\n"
    }
   },
   "outputs": [
    {
     "name": "stdout",
     "output_type": "stream",
     "text": [
      "<class 'pandas.core.frame.DataFrame'>\n",
      "RangeIndex: 1000000 entries, 0 to 999999\n",
      "Data columns (total 2 columns):\n",
      " #   Column  Non-Null Count    Dtype  \n",
      "---  ------  --------------    -----  \n",
      " 0   A       1000000 non-null  float64\n",
      " 1   B       1000000 non-null  int64  \n",
      "dtypes: float64(1), int64(1)\n",
      "memory usage: 15.3 MB\n"
     ]
    }
   ],
   "source": [
    "df.info()"
   ]
  },
  {
   "cell_type": "markdown",
   "id": "b34c462a-6b2e-4fea-8564-955ef719d6ec",
   "metadata": {
    "pycharm": {
     "name": "#%% md\n"
    }
   },
   "source": [
    "## 출력(파일저장)에 소요되는 시간 측정"
   ]
  },
  {
   "cell_type": "code",
   "execution_count": 9,
   "id": "90e17b41-300b-4a51-aa41-a5556521e832",
   "metadata": {
    "pycharm": {
     "name": "#%%\n"
    }
   },
   "outputs": [
    {
     "name": "stdout",
     "output_type": "stream",
     "text": [
      "CPU times: user 1.26 s, sys: 38.8 ms, total: 1.3 s\n",
      "Wall time: 1.31 s\n"
     ]
    }
   ],
   "source": [
    "%%time\n",
    "\n",
    "df.to_csv(\"test.csv\")"
   ]
  },
  {
   "cell_type": "code",
   "execution_count": 10,
   "id": "24ba06e9-5381-4f59-bc2d-322b44cb02ef",
   "metadata": {
    "pycharm": {
     "name": "#%%\n"
    }
   },
   "outputs": [
    {
     "name": "stdout",
     "output_type": "stream",
     "text": [
      "CPU times: user 38.4 ms, sys: 17.8 ms, total: 56.3 ms\n",
      "Wall time: 87.9 ms\n"
     ]
    }
   ],
   "source": [
    "%%time\n",
    "\n",
    "df.to_parquet(\"test.parquet\")"
   ]
  },
  {
   "cell_type": "markdown",
   "id": "f33039b3-fbfe-4206-a8fa-b5ce4347cf48",
   "metadata": {
    "pycharm": {
     "name": "#%% md\n"
    }
   },
   "source": [
    "## 입력(불러오기)에 소요되는 시간 측정"
   ]
  },
  {
   "cell_type": "code",
   "execution_count": 17,
   "id": "18d5eb63-6de0-470b-96db-35eb42cf0482",
   "metadata": {
    "pycharm": {
     "name": "#%%\n"
    }
   },
   "outputs": [
    {
     "name": "stdout",
     "output_type": "stream",
     "text": [
      "CPU times: user 135 ms, sys: 19.1 ms, total: 154 ms\n",
      "Wall time: 153 ms\n"
     ]
    }
   ],
   "source": [
    "%%time\n",
    "\n",
    "_ = pd.read_csv(\"test.csv\")"
   ]
  },
  {
   "cell_type": "code",
   "execution_count": 20,
   "id": "1812cb9f-9e99-42ff-b9db-aa1906864a17",
   "metadata": {
    "pycharm": {
     "name": "#%%\n"
    }
   },
   "outputs": [
    {
     "name": "stdout",
     "output_type": "stream",
     "text": [
      "CPU times: user 13.7 ms, sys: 7.92 ms, total: 21.6 ms\n",
      "Wall time: 15.3 ms\n"
     ]
    }
   ],
   "source": [
    "%%time\n",
    "\n",
    "_ = pd.read_parquet(\"test.parquet\")"
   ]
  },
  {
   "cell_type": "markdown",
   "id": "47e42bbe-1050-45aa-af71-7c41b482d2ea",
   "metadata": {
    "pycharm": {
     "name": "#%% md\n"
    }
   },
   "source": [
    "## 저장공간 차이 측정"
   ]
  },
  {
   "cell_type": "code",
   "execution_count": 26,
   "id": "9a122495-da0c-4f9e-88fa-a904ba14c7bb",
   "metadata": {
    "pycharm": {
     "name": "#%%\n"
    }
   },
   "outputs": [
    {
     "name": "stdout",
     "output_type": "stream",
     "text": [
      "total 72288\n",
      "drwxr-xr-x   7 doyoung  staff   224B Sep 22 02:35 \u001B[1m\u001B[36m.\u001B[m\u001B[m/\n",
      "drwxr-xr-x  11 doyoung  staff   352B Sep 20 02:07 \u001B[1m\u001B[36m..\u001B[m\u001B[m/\n",
      "drwxr-xr-x   4 doyoung  staff   128B Sep 22 02:27 \u001B[1m\u001B[36m.ipynb_checkpoints\u001B[m\u001B[m/\n",
      "-rw-r--r--   1 doyoung  staff    12K Sep 22 01:13 Advanced Python.ipynb\n",
      "-rw-r--r--   1 doyoung  staff    10K Sep 22 02:35 Untitled.ipynb\n",
      "-rw-r--r--   1 doyoung  staff    27M Sep 22 02:32 test.csv\n",
      "-rw-r--r--   1 doyoung  staff   7.9M Sep 22 02:32 test.parquet\n"
     ]
    }
   ],
   "source": [
    "%ls -alh"
   ]
  },
  {
   "cell_type": "markdown",
   "id": "e81b650c-63f2-4208-98a1-7f67ec04145e",
   "metadata": {
    "pycharm": {
     "name": "#%% md\n"
    }
   },
   "source": [
    "# CSV vs Parquet"
   ]
  },
  {
   "cell_type": "code",
   "execution_count": 27,
   "id": "0f26d3e8-50d9-4e53-99fd-8e14819c9867",
   "metadata": {
    "pycharm": {
     "name": "#%%\n"
    }
   },
   "outputs": [],
   "source": [
    "df = pd.DataFrame({\n",
    "    \"datetime\": [pd.Timestamp(\"2022-01-01\"), pd.Timestamp(\"2022-12-31\")],\n",
    "    \"string\": [\"a\", \"b\"]\n",
    "})"
   ]
  },
  {
   "cell_type": "code",
   "execution_count": 28,
   "id": "e84b4e74-cf30-4d86-80ea-0fd63de62443",
   "metadata": {
    "pycharm": {
     "name": "#%%\n"
    }
   },
   "outputs": [
    {
     "data": {
      "text/html": [
       "<div>\n",
       "<style scoped>\n",
       "    .dataframe tbody tr th:only-of-type {\n",
       "        vertical-align: middle;\n",
       "    }\n",
       "\n",
       "    .dataframe tbody tr th {\n",
       "        vertical-align: top;\n",
       "    }\n",
       "\n",
       "    .dataframe thead th {\n",
       "        text-align: right;\n",
       "    }\n",
       "</style>\n",
       "<table border=\"1\" class=\"dataframe\">\n",
       "  <thead>\n",
       "    <tr style=\"text-align: right;\">\n",
       "      <th></th>\n",
       "      <th>datetime</th>\n",
       "      <th>string</th>\n",
       "    </tr>\n",
       "  </thead>\n",
       "  <tbody>\n",
       "    <tr>\n",
       "      <th>0</th>\n",
       "      <td>2022-01-01</td>\n",
       "      <td>a</td>\n",
       "    </tr>\n",
       "    <tr>\n",
       "      <th>1</th>\n",
       "      <td>2022-12-31</td>\n",
       "      <td>b</td>\n",
       "    </tr>\n",
       "  </tbody>\n",
       "</table>\n",
       "</div>"
      ],
      "text/plain": [
       "    datetime string\n",
       "0 2022-01-01      a\n",
       "1 2022-12-31      b"
      ]
     },
     "execution_count": 28,
     "metadata": {},
     "output_type": "execute_result"
    }
   ],
   "source": [
    "df.head()"
   ]
  },
  {
   "cell_type": "code",
   "execution_count": 30,
   "id": "d96dbcb7-5fbf-4b67-8219-0e606a044704",
   "metadata": {
    "pycharm": {
     "name": "#%%\n"
    }
   },
   "outputs": [
    {
     "name": "stdout",
     "output_type": "stream",
     "text": [
      "<class 'pandas.core.frame.DataFrame'>\n",
      "RangeIndex: 2 entries, 0 to 1\n",
      "Data columns (total 2 columns):\n",
      " #   Column    Non-Null Count  Dtype         \n",
      "---  ------    --------------  -----         \n",
      " 0   datetime  2 non-null      datetime64[ns]\n",
      " 1   string    2 non-null      object        \n",
      "dtypes: datetime64[ns](1), object(1)\n",
      "memory usage: 160.0+ bytes\n"
     ]
    }
   ],
   "source": [
    "df.info()"
   ]
  },
  {
   "cell_type": "markdown",
   "id": "8e640db7-217d-41c8-b8cb-ee5a6b254578",
   "metadata": {
    "pycharm": {
     "name": "#%% md\n"
    }
   },
   "source": [
    "## CSV"
   ]
  },
  {
   "cell_type": "code",
   "execution_count": 33,
   "id": "26c7fb05-8854-44e7-b437-a6301ebf0e4d",
   "metadata": {
    "pycharm": {
     "name": "#%%\n"
    }
   },
   "outputs": [],
   "source": [
    "df.to_csv(\"test.csv\", index=None)"
   ]
  },
  {
   "cell_type": "code",
   "execution_count": 34,
   "id": "ae1c87a1-f464-46cd-92c4-6ddf9a2545ab",
   "metadata": {
    "pycharm": {
     "name": "#%%\n"
    }
   },
   "outputs": [],
   "source": [
    "csv_df = pd.read_csv(\"test.csv\")"
   ]
  },
  {
   "cell_type": "code",
   "execution_count": 36,
   "id": "ff6a724f-3349-4f49-a2a8-849379132151",
   "metadata": {
    "pycharm": {
     "name": "#%%\n"
    }
   },
   "outputs": [
    {
     "data": {
      "text/html": [
       "<div>\n",
       "<style scoped>\n",
       "    .dataframe tbody tr th:only-of-type {\n",
       "        vertical-align: middle;\n",
       "    }\n",
       "\n",
       "    .dataframe tbody tr th {\n",
       "        vertical-align: top;\n",
       "    }\n",
       "\n",
       "    .dataframe thead th {\n",
       "        text-align: right;\n",
       "    }\n",
       "</style>\n",
       "<table border=\"1\" class=\"dataframe\">\n",
       "  <thead>\n",
       "    <tr style=\"text-align: right;\">\n",
       "      <th></th>\n",
       "      <th>datetime</th>\n",
       "      <th>string</th>\n",
       "    </tr>\n",
       "  </thead>\n",
       "  <tbody>\n",
       "    <tr>\n",
       "      <th>0</th>\n",
       "      <td>2022-01-01</td>\n",
       "      <td>a</td>\n",
       "    </tr>\n",
       "    <tr>\n",
       "      <th>1</th>\n",
       "      <td>2022-12-31</td>\n",
       "      <td>b</td>\n",
       "    </tr>\n",
       "  </tbody>\n",
       "</table>\n",
       "</div>"
      ],
      "text/plain": [
       "     datetime string\n",
       "0  2022-01-01      a\n",
       "1  2022-12-31      b"
      ]
     },
     "execution_count": 36,
     "metadata": {},
     "output_type": "execute_result"
    }
   ],
   "source": [
    "csv_df.head()"
   ]
  },
  {
   "cell_type": "code",
   "execution_count": 37,
   "id": "2f531342-ecf8-4176-800d-d0b2a73ceef7",
   "metadata": {
    "pycharm": {
     "name": "#%%\n"
    }
   },
   "outputs": [
    {
     "name": "stdout",
     "output_type": "stream",
     "text": [
      "<class 'pandas.core.frame.DataFrame'>\n",
      "RangeIndex: 2 entries, 0 to 1\n",
      "Data columns (total 2 columns):\n",
      " #   Column    Non-Null Count  Dtype \n",
      "---  ------    --------------  ----- \n",
      " 0   datetime  2 non-null      object\n",
      " 1   string    2 non-null      object\n",
      "dtypes: object(2)\n",
      "memory usage: 160.0+ bytes\n"
     ]
    }
   ],
   "source": [
    "csv_df.info()"
   ]
  },
  {
   "cell_type": "markdown",
   "id": "a3b8693a-caf4-4355-a7f8-b4b098d10c4d",
   "metadata": {
    "pycharm": {
     "name": "#%% md\n"
    }
   },
   "source": [
    "## Parquet"
   ]
  },
  {
   "cell_type": "code",
   "execution_count": 38,
   "id": "e86296ef-09d6-4d95-babf-a160634df47a",
   "metadata": {
    "pycharm": {
     "name": "#%%\n"
    }
   },
   "outputs": [],
   "source": [
    "df.to_parquet(\"test.parquet\", index=None)"
   ]
  },
  {
   "cell_type": "code",
   "execution_count": 39,
   "id": "14bae5f1-44f8-4a54-87d9-8cb55def2790",
   "metadata": {
    "pycharm": {
     "name": "#%%\n"
    }
   },
   "outputs": [],
   "source": [
    "parquet_df = pd.read_parquet(\"test.parquet\")"
   ]
  },
  {
   "cell_type": "code",
   "execution_count": 40,
   "id": "5072c689-b8f3-4412-974a-0a126f0cee6c",
   "metadata": {
    "pycharm": {
     "name": "#%%\n"
    }
   },
   "outputs": [
    {
     "data": {
      "text/html": [
       "<div>\n",
       "<style scoped>\n",
       "    .dataframe tbody tr th:only-of-type {\n",
       "        vertical-align: middle;\n",
       "    }\n",
       "\n",
       "    .dataframe tbody tr th {\n",
       "        vertical-align: top;\n",
       "    }\n",
       "\n",
       "    .dataframe thead th {\n",
       "        text-align: right;\n",
       "    }\n",
       "</style>\n",
       "<table border=\"1\" class=\"dataframe\">\n",
       "  <thead>\n",
       "    <tr style=\"text-align: right;\">\n",
       "      <th></th>\n",
       "      <th>datetime</th>\n",
       "      <th>string</th>\n",
       "    </tr>\n",
       "  </thead>\n",
       "  <tbody>\n",
       "    <tr>\n",
       "      <th>0</th>\n",
       "      <td>2022-01-01</td>\n",
       "      <td>a</td>\n",
       "    </tr>\n",
       "    <tr>\n",
       "      <th>1</th>\n",
       "      <td>2022-12-31</td>\n",
       "      <td>b</td>\n",
       "    </tr>\n",
       "  </tbody>\n",
       "</table>\n",
       "</div>"
      ],
      "text/plain": [
       "    datetime string\n",
       "0 2022-01-01      a\n",
       "1 2022-12-31      b"
      ]
     },
     "execution_count": 40,
     "metadata": {},
     "output_type": "execute_result"
    }
   ],
   "source": [
    "parquet_df.head()"
   ]
  },
  {
   "cell_type": "code",
   "execution_count": 41,
   "id": "7f870818-fe37-4562-8910-cf840375149c",
   "metadata": {
    "pycharm": {
     "name": "#%%\n"
    }
   },
   "outputs": [
    {
     "name": "stdout",
     "output_type": "stream",
     "text": [
      "<class 'pandas.core.frame.DataFrame'>\n",
      "RangeIndex: 2 entries, 0 to 1\n",
      "Data columns (total 2 columns):\n",
      " #   Column    Non-Null Count  Dtype         \n",
      "---  ------    --------------  -----         \n",
      " 0   datetime  2 non-null      datetime64[ns]\n",
      " 1   string    2 non-null      object        \n",
      "dtypes: datetime64[ns](1), object(1)\n",
      "memory usage: 160.0+ bytes\n"
     ]
    }
   ],
   "source": [
    "parquet_df.info()"
   ]
  },
  {
   "cell_type": "markdown",
   "id": "51a13d00-23e6-4920-89f3-a73df9f3ad7b",
   "metadata": {
    "pycharm": {
     "name": "#%% md\n"
    }
   },
   "source": [
    "# `sys.path`"
   ]
  },
  {
   "cell_type": "code",
   "execution_count": 42,
   "id": "19fd98fa-763e-4c27-ae05-c2d388b3c729",
   "metadata": {
    "pycharm": {
     "name": "#%%\n"
    }
   },
   "outputs": [
    {
     "data": {
      "text/plain": [
       "['/Users/doyoung/Projects/kepco-class/load-interpolation/problem',\n",
       " '/opt/homebrew/Caskroom/miniforge/base/envs/load-interpolation/lib/python310.zip',\n",
       " '/opt/homebrew/Caskroom/miniforge/base/envs/load-interpolation/lib/python3.10',\n",
       " '/opt/homebrew/Caskroom/miniforge/base/envs/load-interpolation/lib/python3.10/lib-dynload',\n",
       " '',\n",
       " '/opt/homebrew/Caskroom/miniforge/base/envs/load-interpolation/lib/python3.10/site-packages']"
      ]
     },
     "execution_count": 42,
     "metadata": {},
     "output_type": "execute_result"
    }
   ],
   "source": [
    "import sys\n",
    "\n",
    "sys.path"
   ]
  },
  {
   "cell_type": "code",
   "execution_count": 43,
   "id": "45d1025b-e466-4424-84e0-ceb5e22cc39d",
   "metadata": {
    "pycharm": {
     "name": "#%%\n"
    }
   },
   "outputs": [],
   "source": [
    "sys.path.append(\"src\")"
   ]
  },
  {
   "cell_type": "code",
   "execution_count": 44,
   "id": "fac4f19b-3103-4b1c-be3d-6d67d336b843",
   "metadata": {
    "pycharm": {
     "name": "#%%\n"
    }
   },
   "outputs": [
    {
     "data": {
      "text/plain": [
       "['/Users/doyoung/Projects/kepco-class/load-interpolation/problem',\n",
       " '/opt/homebrew/Caskroom/miniforge/base/envs/load-interpolation/lib/python310.zip',\n",
       " '/opt/homebrew/Caskroom/miniforge/base/envs/load-interpolation/lib/python3.10',\n",
       " '/opt/homebrew/Caskroom/miniforge/base/envs/load-interpolation/lib/python3.10/lib-dynload',\n",
       " '',\n",
       " '/opt/homebrew/Caskroom/miniforge/base/envs/load-interpolation/lib/python3.10/site-packages',\n",
       " 'src']"
      ]
     },
     "execution_count": 44,
     "metadata": {},
     "output_type": "execute_result"
    }
   ],
   "source": [
    "sys.path"
   ]
  },
  {
   "cell_type": "markdown",
   "id": "ac0ebac7-9a85-47eb-89bc-12b9e93281e9",
   "metadata": {
    "pycharm": {
     "name": "#%% md\n"
    }
   },
   "source": [
    "# 연습문제\n",
    "\n",
    "`handle_huge_data.csv` 파일을 읽어서 `handle_huge_data_with_parquet.parquet` 파일로 저장해보세요"
   ]
  },
  {
   "cell_type": "code",
   "execution_count": 48,
   "id": "f4e8dd20-9810-4308-a549-5983dd552e7f",
   "metadata": {
    "pycharm": {
     "name": "#%%\n"
    }
   },
   "outputs": [],
   "source": [
    "# 세팅코드입니다\n",
    "# 수정하지 않고 한번 실행해주세요\n",
    "\n",
    "import numpy as np\n",
    "import pandas as pd\n",
    "\n",
    "huge_data_df = pd.DataFrame({\"data\": np.random.randn(1_000_000)})\n",
    "huge_data_df.to_csv(\"handle_huge_data.csv\")"
   ]
  },
  {
   "cell_type": "code",
   "execution_count": null,
   "id": "23cae80a-176e-466c-b422-e6076c3fa41c",
   "metadata": {
    "pycharm": {
     "name": "#%%\n"
    }
   },
   "outputs": [],
   "source": [
    "# 아래에 정답코드를 작성해주세요\n",
    "\n"
   ]
  }
 ],
 "metadata": {
  "kernelspec": {
   "display_name": "Python 3 (ipykernel)",
   "language": "python",
   "name": "python3"
  },
  "language_info": {
   "codemirror_mode": {
    "name": "ipython",
    "version": 3
   },
   "file_extension": ".py",
   "mimetype": "text/x-python",
   "name": "python",
   "nbconvert_exporter": "python",
   "pygments_lexer": "ipython3",
   "version": "3.10.6"
  }
 },
 "nbformat": 4,
 "nbformat_minor": 5
}