{
 "cells": [
  {
   "cell_type": "markdown",
   "id": "690a4d54",
   "metadata": {
    "pycharm": {
     "name": "#%% md\n"
    }
   },
   "source": [
    "# 1. `f-string`\n",
    "\n",
    "아래 예시 문구를 f-string 을 사용하여 동일하게 출력하시오"
   ]
  },
  {
   "cell_type": "code",
   "execution_count": 1,
   "id": "a0d55727",
   "metadata": {
    "collapsed": false,
    "jupyter": {
     "outputs_hidden": false
    },
    "pycharm": {
     "name": "#%%\n"
    }
   },
   "outputs": [],
   "source": [
    "# 세팅코드입니다\n",
    "# 수정하지 말고 한 번 실행해주세요\n",
    "\n",
    "from datetime import datetime\n",
    "\n",
    "today = datetime.today()"
   ]
  },
  {
   "cell_type": "code",
   "execution_count": 2,
   "id": "729962da",
   "metadata": {
    "collapsed": false,
    "jupyter": {
     "outputs_hidden": false
    },
    "pycharm": {
     "name": "#%%\n"
    }
   },
   "outputs": [
    {
     "name": "stdout",
     "output_type": "stream",
     "text": [
      "today is 2022-9-20\n"
     ]
    }
   ],
   "source": [
    "# 예시 문구\n",
    "\n",
    "print(\"today is \" + str(today.year) + \"-\" + str(today.month) + \"-\" + str(today.day))"
   ]
  },
  {
   "cell_type": "code",
   "execution_count": 3,
   "id": "95990111",
   "metadata": {
    "collapsed": false,
    "jupyter": {
     "outputs_hidden": false
    },
    "pycharm": {
     "name": "#%%\n"
    }
   },
   "outputs": [],
   "source": [
    "# 아래에 정답코드를 작성하세요\n",
    "\n"
   ]
  },
  {
   "cell_type": "markdown",
   "id": "6587fdfe",
   "metadata": {
    "pycharm": {
     "name": "#%% md\n"
    }
   },
   "source": [
    "# 2. `lambda`\n",
    "\n",
    "예시코드와 동일한 동작을 하는 함수를 `lambda` 를 활용하여 작성해주세요.  \n",
    "함수의 이름은 아무것이나 상관없습니다."
   ]
  },
  {
   "cell_type": "code",
   "execution_count": 4,
   "id": "e48ae8b8",
   "metadata": {
    "collapsed": false,
    "jupyter": {
     "outputs_hidden": false
    },
    "pycharm": {
     "name": "#%%\n"
    }
   },
   "outputs": [
    {
     "name": "stdout",
     "output_type": "stream",
     "text": [
      "2.0\n"
     ]
    }
   ],
   "source": [
    "# 예시코드\n",
    "def square_root(n):\n",
    "    return n ** 0.5\n",
    "\n",
    "\n",
    "print(square_root(4))"
   ]
  },
  {
   "cell_type": "code",
   "execution_count": 5,
   "id": "0b999f4e",
   "metadata": {
    "collapsed": false,
    "jupyter": {
     "outputs_hidden": false
    },
    "pycharm": {
     "name": "#%%\n"
    }
   },
   "outputs": [],
   "source": [
    "# 아래에 정답코드를 작성하세요\n",
    "\n"
   ]
  },
  {
   "cell_type": "markdown",
   "id": "2344334c",
   "metadata": {
    "pycharm": {
     "name": "#%% md\n"
    }
   },
   "source": [
    "# 3. `map`"
   ]
  },
  {
   "cell_type": "markdown",
   "id": "9dd2dcdb",
   "metadata": {
    "pycharm": {
     "name": "#%% md\n"
    }
   },
   "source": [
    "1. `map` 을 이용하여 `numbers` 안에 들어있는 문자들을 모두 숫자로 변경하고 리스트로 만드세요"
   ]
  },
  {
   "cell_type": "code",
   "execution_count": 6,
   "id": "f791c0ae",
   "metadata": {
    "collapsed": false,
    "jupyter": {
     "outputs_hidden": false
    },
    "pycharm": {
     "name": "#%%\n"
    }
   },
   "outputs": [],
   "source": [
    "# 세팅코드입니다\n",
    "# 수정하지 말고 한 번 실행해주세요\n",
    "\n",
    "numbers = [\"2\", \"3523\", \"123123\"]"
   ]
  },
  {
   "cell_type": "code",
   "execution_count": 7,
   "id": "a2869311",
   "metadata": {
    "collapsed": false,
    "jupyter": {
     "outputs_hidden": false
    },
    "pycharm": {
     "name": "#%%\n"
    }
   },
   "outputs": [],
   "source": [
    "# 아래에 정답코드를 작성하세요\n",
    "\n"
   ]
  },
  {
   "cell_type": "markdown",
   "id": "0d63fa6d",
   "metadata": {
    "pycharm": {
     "name": "#%% md\n"
    }
   },
   "source": [
    "2. `map` 을 이용하여 `words` 안에 들어있는 단어들을 모두 대문자로 변경하고 리스트로 만드세요"
   ]
  },
  {
   "cell_type": "code",
   "execution_count": 8,
   "id": "c61a2c84",
   "metadata": {
    "collapsed": false,
    "jupyter": {
     "outputs_hidden": false
    },
    "pycharm": {
     "name": "#%%\n"
    }
   },
   "outputs": [
    {
     "data": {
      "text/plain": [
       "'A'"
      ]
     },
     "execution_count": 8,
     "metadata": {},
     "output_type": "execute_result"
    }
   ],
   "source": [
    "# 세팅코드입니다\n",
    "# 수정하지 말고 한 번 실행해주세요\n",
    "\n",
    "words = [\"a\", \"b\", \"c\", \"please, \", \"make\", \"me\", \"upper!\"]\n",
    "\n",
    "# 힌트 (대문자로 변경하는 법)\n",
    "words[0].upper()"
   ]
  },
  {
   "cell_type": "code",
   "execution_count": 9,
   "id": "b197b2f6",
   "metadata": {
    "collapsed": false,
    "jupyter": {
     "outputs_hidden": false
    },
    "pycharm": {
     "name": "#%%\n"
    }
   },
   "outputs": [],
   "source": [
    "# 아래에 정답코드를 작성하세요\n",
    "\n"
   ]
  },
  {
   "cell_type": "markdown",
   "id": "fe6064fb-a6d1-4b64-90c9-d20af29fc0c9",
   "metadata": {},
   "source": [
    "# 4. `filter`\n",
    "\n",
    "아래 `words` 에서 글자수가 `5 이상` 인 단어만 남기고 삭제한 리스트를 구하세요"
   ]
  },
  {
   "cell_type": "code",
   "execution_count": 19,
   "id": "893fbd9e-2273-46d2-8adf-a964baf20dc1",
   "metadata": {},
   "outputs": [],
   "source": [
    "# 세팅코드입니다\n",
    "# 수정하지 말고 한 번 실행해주세요\n",
    "\n",
    "words = [\"coooookie\", \"attennnntion\", \"hype\", \"boy\", \"new!?\", \"jeans\"]"
   ]
  },
  {
   "cell_type": "code",
   "execution_count": 21,
   "id": "41034dfc-f85e-4c50-929f-45396ba1164a",
   "metadata": {},
   "outputs": [],
   "source": [
    "# 아래에 정답코드를 작성하세요\n",
    "\n"
   ]
  },
  {
   "cell_type": "markdown",
   "id": "32d520f6-dea6-4c89-8568-52503b31aa9b",
   "metadata": {},
   "source": [
    "# 5. `comprehension`\n",
    "\n",
    "1. `comprehension` 을 이용하여 숫자 `1` 부터 `12`까지를 가진 리스트를 만들고, `months` 라는 변수에 할당하세요"
   ]
  },
  {
   "cell_type": "code",
   "execution_count": 22,
   "id": "60bb1b0a-c595-4fab-89b3-addae5a8da49",
   "metadata": {},
   "outputs": [],
   "source": [
    "# 아래에 정답코드를 작성하세요\n",
    "\n"
   ]
  },
  {
   "cell_type": "markdown",
   "id": "5d569e31-7c41-4584-a93b-9c77f83fc27c",
   "metadata": {},
   "source": [
    "2. `comprehension` 을 이용하여 위에서 구한 `months` 에 있는 달들의 마지막날짜(ex. 31)을 구하세요. 연도는 2022 년으로 구합니다"
   ]
  },
  {
   "cell_type": "code",
   "execution_count": 28,
   "id": "697e1721-a1bb-4406-a5d8-030357abbe38",
   "metadata": {},
   "outputs": [
    {
     "data": {
      "text/plain": [
       "30"
      ]
     },
     "execution_count": 28,
     "metadata": {},
     "output_type": "execute_result"
    }
   ],
   "source": [
    "# 힌트\n",
    "# 각 달의 마지막날을 구하는 함수 = monthrange\n",
    "from calendar import monthrange\n",
    "\n",
    "# 2022 년 9월의 마지막날\n",
    "monthrange(2022, 9)[1]"
   ]
  },
  {
   "cell_type": "code",
   "execution_count": 33,
   "id": "af107863-c171-45af-bff3-4fc9bb94563f",
   "metadata": {},
   "outputs": [],
   "source": [
    "# 정답예시\n",
    "# 아래와 같은 결과를 얻으면 됩니다\n",
    "# [31, 28, 31, 30, 31, 30, 31, 31, 30, 31, 30, 31]"
   ]
  },
  {
   "cell_type": "code",
   "execution_count": 34,
   "id": "2a61527a-95d8-4002-9c60-563916cd8b18",
   "metadata": {},
   "outputs": [],
   "source": [
    "# 아래에 정답코드를 작성하세요\n",
    "\n"
   ]
  },
  {
   "cell_type": "markdown",
   "id": "814cce26-7fc0-46df-b47a-cbe3f062997d",
   "metadata": {},
   "source": [
    "# 6. `packing/unpacking`\n",
    "\n",
    "numbers 에서 `1` 은 `one` 이라는 변수에, [`10`, `20`, `30`, `40`] 리스트는 `partial_list` 라는 변수에 나누어 보세요"
   ]
  },
  {
   "cell_type": "code",
   "execution_count": 4,
   "id": "cffaa251-3122-4ec5-8fac-5ad5a8c1a066",
   "metadata": {},
   "outputs": [],
   "source": [
    "# 세팅코드입니다\n",
    "# 수정하지 말고 한 번 실행해주세요\n",
    "\n",
    "numbers = [1, 10, 20, 30, 40]"
   ]
  },
  {
   "cell_type": "code",
   "execution_count": 6,
   "id": "1d32623f-43e3-4851-b600-3018f07f4215",
   "metadata": {},
   "outputs": [],
   "source": [
    "# 아래에 정답코드를 작성하세요\n",
    "\n"
   ]
  },
  {
   "cell_type": "markdown",
   "id": "758e86ac-ee64-42ad-9dda-2f2bae87871e",
   "metadata": {},
   "source": [
    "# 7. `del`\n",
    "\n",
    "아래 `huge_size_words` 는 너무 메모리 소모양이 커서 삭제하려 합니다 `del` 을 사용하여 메모리에서 삭제해주세요"
   ]
  },
  {
   "cell_type": "code",
   "execution_count": 8,
   "id": "9cc70c18-3d36-4e7d-a62e-0f7d5ea98c29",
   "metadata": {},
   "outputs": [],
   "source": [
    "# 세팅코드입니다\n",
    "# 수정하지 말고 한 번 실행해주세요\n",
    "\n",
    "huge_size_words = [chr(word_index) for word_index in range(1000)]"
   ]
  },
  {
   "cell_type": "code",
   "execution_count": 10,
   "id": "a73f75a2-8da8-416b-abcf-7a4681f7c0bc",
   "metadata": {},
   "outputs": [],
   "source": [
    "# 아래에 정답코드를 작성하세요\n",
    "\n"
   ]
  },
  {
   "cell_type": "markdown",
   "id": "17bc1062-85e7-4254-8e59-06489ece9e53",
   "metadata": {},
   "source": [
    "# 8. `%%time`\n",
    "\n",
    "아래 코드의 실행시간을 `%%time` 를 이용하여 측정해주세요"
   ]
  },
  {
   "cell_type": "code",
   "execution_count": 16,
   "id": "32fe438d-f935-49c6-a9d6-86ac8aeb6eb9",
   "metadata": {},
   "outputs": [
    {
     "data": {
      "text/plain": [
       "2500"
      ]
     },
     "execution_count": 16,
     "metadata": {},
     "output_type": "execute_result"
    }
   ],
   "source": [
    "# 아래 코드의 실행시간을 측정해주세요\n",
    "\n",
    "sum([v for v in range(1, 101, 2)])"
   ]
  },
  {
   "cell_type": "markdown",
   "id": "9f7af5a2-fa93-49ad-b2ec-59fb088bde2a",
   "metadata": {},
   "source": [
    "# 9. `_`\n",
    "\n",
    "아래 `values` 리스트의 3번째 값부터는 사용하지 않는다고 합니다.  \n",
    "사용하지 않는 값은 `_` 에 담아 주세요"
   ]
  },
  {
   "cell_type": "code",
   "execution_count": 30,
   "id": "f4d3eff7-3eaf-48c0-9d9a-e5f08906d151",
   "metadata": {},
   "outputs": [],
   "source": [
    "# 세팅코드입니다\n",
    "# 수정하지 말고 한 번 실행해주세요\n",
    "\n",
    "values = [\"useful\", \"value\", \"but\", \"this\", \"is\", \"not\"]"
   ]
  },
  {
   "cell_type": "code",
   "execution_count": 29,
   "id": "664f41ca-1db1-4a27-be76-714d60ea2098",
   "metadata": {},
   "outputs": [],
   "source": [
    "# 아래에 정답코드를 작성하세요\n",
    "\n"
   ]
  },
  {
   "cell_type": "markdown",
   "id": "3fdf7b56-b418-4042-a0ff-a4eae09e40bf",
   "metadata": {},
   "source": [
    "# 10. `glob`\n",
    "\n",
    "`sample_data/` 안에 있는 파일 중 `california` 로 시작하는 모든 파일들의 이름을 리스트로 구해보세요"
   ]
  },
  {
   "cell_type": "code",
   "execution_count": null,
   "id": "6f1839de-666e-4783-a7c5-dc7c1fa41362",
   "metadata": {},
   "outputs": [],
   "source": [
    "# 아래에 정답코드를 작성하세요\n",
    "\n"
   ]
  }
 ],
 "metadata": {
  "kernelspec": {
   "display_name": "Python 3 (ipykernel)",
   "language": "python",
   "name": "python3"
  },
  "language_info": {
   "codemirror_mode": {
    "name": "ipython",
    "version": 3
   },
   "file_extension": ".py",
   "mimetype": "text/x-python",
   "name": "python",
   "nbconvert_exporter": "python",
   "pygments_lexer": "ipython3",
   "version": "3.10.6"
  }
 },
 "nbformat": 4,
 "nbformat_minor": 5
}
